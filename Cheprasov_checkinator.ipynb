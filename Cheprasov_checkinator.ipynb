{
  "nbformat": 4,
  "nbformat_minor": 0,
  "metadata": {
    "colab": {
      "provenance": [],
      "collapsed_sections": []
    },
    "kernelspec": {
      "name": "python3",
      "display_name": "Python 3"
    },
    "language_info": {
      "name": "python"
    }
  },
  "cells": [
    {
      "cell_type": "code",
      "execution_count": 13,
      "metadata": {
        "colab": {
          "base_uri": "https://localhost:8080/"
        },
        "id": "elil3crouKN0",
        "outputId": "f62155f1-92ea-4226-f966-34410e71e317"
      },
      "outputs": [
        {
          "output_type": "stream",
          "name": "stderr",
          "text": [
            "[nltk_data] Downloading package punkt to /root/nltk_data...\n",
            "[nltk_data]   Package punkt is already up-to-date!\n",
            "[nltk_data] Downloading package averaged_perceptron_tagger to\n",
            "[nltk_data]     /root/nltk_data...\n",
            "[nltk_data]   Package averaged_perceptron_tagger is already up-to-\n",
            "[nltk_data]       date!\n"
          ]
        },
        {
          "output_type": "stream",
          "name": "stdout",
          "text": [
            "Существительные: 1039\n",
            "Глаголы: 544\n",
            "Междометия: 476\n",
            "Прилагательные: 258\n",
            "Наречия: 164\n"
          ]
        }
      ],
      "source": [
        "import requests\n",
        "import nltk\n",
        "from nltk.tokenize import word_tokenize\n",
        "\n",
        "nltk.download('punkt')\n",
        "nltk.download('averaged_perceptron_tagger')\n",
        "\n",
        "data = requests.get('https://gist.githubusercontent.com/nzhukov/b66c831ea88b4e5c4a044c952fb3e1ae/raw/7935e52297e2e85933e41d1fd16ed529f1e689f5/A%2520Brief%2520History%2520of%2520the%2520Web.txt')\n",
        "\n",
        "tokens = word_tokenize(str(data.content, \"utf-8\"))\n",
        "\n",
        "pairs = nltk.pos_tag(tokens)\n",
        "\n",
        "pos_name_count = {'Существительные': 0, 'Глаголы': 0, 'Наречия': 0, 'Междометия': 0, 'Прилагательные': 0, 'Предлоги': 0}\n",
        "\n",
        "for pair in pairs:\n",
        "  word = pair[0]\n",
        "  pos = pair[1]\n",
        "  if word.isalpha():\n",
        "    if pos.startswith('N'):\n",
        "      pos_name_count['Существительные'] += 1\n",
        "    elif pos.startswith('V'):\n",
        "      pos_name_count['Глаголы'] += 1\n",
        "    elif pos.startswith('RB'):\n",
        "      pos_name_count['Наречия'] += 1\n",
        "    elif pos.startswith('IN'):\n",
        "      pos_name_count['Междометия'] += 1\n",
        "    elif pos.startswith('JJ'):\n",
        "      pos_name_count['Прилагательные'] += 1\n",
        "    elif pos.startswith('PR'):\n",
        "      pos_name_count['Предлоги'] += 1\n",
        "\n",
        "result_array = sorted(list(pos_name_count.items()), key=lambda x: x[1], reverse=True)\n",
        "\n",
        "for element in result_array[:5]:\n",
        "    print(f\"{element[0]}: {element[1]}\")"
      ]
    }
  ]
}